{
 "cells": [
  {
   "cell_type": "code",
   "execution_count": 6,
   "id": "c176e645",
   "metadata": {},
   "outputs": [
    {
     "name": "stdout",
     "output_type": "stream",
     "text": [
      "1\n",
      "2\n",
      "3\n"
     ]
    }
   ],
   "source": [
    "class Node:\n",
    "    def __init__(self,data):\n",
    "        self.data = data\n",
    "        self.next = None\n",
    "        \n",
    "class LinkedList:\n",
    "    def __init__(self):\n",
    "        self.head = None\n",
    "    def printll(self):\n",
    "        temp=self.head\n",
    "        while(temp):\n",
    "            print(temp.data)\n",
    "            temp=temp.next\n",
    "\n",
    "if __name__=='__main__':\n",
    "    llist = LinkedList()\n",
    "    llist.head = Node(1)\n",
    "    second = Node(2)\n",
    "    third = Node(3)\n",
    "    llist.head.next=second\n",
    "    second.next=third\n",
    "    llist.printll()\n",
    "    \n"
   ]
  },
  {
   "cell_type": "code",
   "execution_count": null,
   "id": "fc3540b1",
   "metadata": {},
   "outputs": [],
   "source": [
    "\n",
    "    "
   ]
  }
 ],
 "metadata": {
  "kernelspec": {
   "display_name": "Python 3",
   "language": "python",
   "name": "python3"
  },
  "language_info": {
   "codemirror_mode": {
    "name": "ipython",
    "version": 3
   },
   "file_extension": ".py",
   "mimetype": "text/x-python",
   "name": "python",
   "nbconvert_exporter": "python",
   "pygments_lexer": "ipython3",
   "version": "3.8.8"
  }
 },
 "nbformat": 4,
 "nbformat_minor": 5
}
